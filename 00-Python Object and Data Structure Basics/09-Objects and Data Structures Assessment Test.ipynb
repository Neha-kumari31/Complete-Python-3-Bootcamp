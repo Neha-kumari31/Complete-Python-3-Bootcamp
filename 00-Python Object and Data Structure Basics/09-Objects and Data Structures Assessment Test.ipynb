{
  "nbformat": 4,
  "nbformat_minor": 0,
  "metadata": {
    "anaconda-cloud": {},
    "kernelspec": {
      "display_name": "Python 3",
      "language": "python",
      "name": "python3"
    },
    "language_info": {
      "codemirror_mode": {
        "name": "ipython",
        "version": 3
      },
      "file_extension": ".py",
      "mimetype": "text/x-python",
      "name": "python",
      "nbconvert_exporter": "python",
      "pygments_lexer": "ipython3",
      "version": "3.6.2"
    },
    "colab": {
      "name": "09-Objects and Data Structures Assessment Test.ipynb",
      "provenance": []
    }
  },
  "cells": [
    {
      "cell_type": "markdown",
      "metadata": {
        "id": "oifIyQh-a1RS",
        "colab_type": "text"
      },
      "source": [
        "# Objects and Data Structures Assessment Test"
      ]
    },
    {
      "cell_type": "markdown",
      "metadata": {
        "collapsed": true,
        "id": "vEsTVBzLa1RT",
        "colab_type": "text"
      },
      "source": [
        "## Test your knowledge. \n",
        "\n",
        "** Answer the following questions **"
      ]
    },
    {
      "cell_type": "markdown",
      "metadata": {
        "collapsed": true,
        "id": "GZQ-8tdia1RU",
        "colab_type": "text"
      },
      "source": [
        "Write a brief description of all the following Object Types and Data Structures we've learned about: "
      ]
    },
    {
      "cell_type": "markdown",
      "metadata": {
        "id": "N9sfdi-ha1RU",
        "colab_type": "text"
      },
      "source": [
        "Numbers:\n",
        "\n",
        "Strings:\n",
        "\n",
        "Lists:\n",
        "\n",
        "Tuples:\n",
        "\n",
        "Dictionaries:\n"
      ]
    },
    {
      "cell_type": "markdown",
      "metadata": {
        "id": "n7bTvjVoa1RV",
        "colab_type": "text"
      },
      "source": [
        "## Numbers\n",
        "\n",
        "Write an equation that uses multiplication, division, an exponent, addition, and subtraction that is equal to 100.25.\n",
        "\n",
        "Hint: This is just to test your memory of the basic arithmetic commands, work backwards from 100.25"
      ]
    },
    {
      "cell_type": "code",
      "metadata": {
        "id": "YmgBzroha1RV",
        "colab_type": "code",
        "colab": {
          "base_uri": "https://localhost:8080/",
          "height": 33
        },
        "outputId": "ba10fc4d-afca-4c3d-db96-6eaad929735b"
      },
      "source": [
        "print(10025 * .01)"
      ],
      "execution_count": 1,
      "outputs": [
        {
          "output_type": "stream",
          "text": [
            "100.25\n"
          ],
          "name": "stdout"
        }
      ]
    },
    {
      "cell_type": "markdown",
      "metadata": {
        "id": "QEsAoNq5a1RY",
        "colab_type": "text"
      },
      "source": [
        "Answer these 3 questions without typing code. Then type code to check your answer.\n",
        "\n",
        "    What is the value of the expression 4 * (6 + 5)\n",
        "    \n",
        "    What is the value of the expression 4 * 6 + 5 \n",
        "    \n",
        "    What is the value of the expression 4 + 6 * 5 "
      ]
    },
    {
      "cell_type": "code",
      "metadata": {
        "id": "VIuvNMnfa1RZ",
        "colab_type": "code",
        "colab": {}
      },
      "source": [
        ""
      ],
      "execution_count": null,
      "outputs": []
    },
    {
      "cell_type": "markdown",
      "metadata": {
        "id": "v_BN7CLba1Rb",
        "colab_type": "text"
      },
      "source": [
        "What is the *type* of the result of the expression 3 + 1.5 + 4?<br><br>"
      ]
    },
    {
      "cell_type": "markdown",
      "metadata": {
        "id": "cbq0ugVTa1Rc",
        "colab_type": "text"
      },
      "source": [
        "What would you use to find a number’s square root, as well as its square? "
      ]
    },
    {
      "cell_type": "code",
      "metadata": {
        "id": "KeybD0Kba1Rc",
        "colab_type": "code",
        "colab": {}
      },
      "source": [
        "# Square root:\n"
      ],
      "execution_count": null,
      "outputs": []
    },
    {
      "cell_type": "code",
      "metadata": {
        "id": "NMlXdfCJa1Rf",
        "colab_type": "code",
        "colab": {}
      },
      "source": [
        "# Square:\n"
      ],
      "execution_count": null,
      "outputs": []
    },
    {
      "cell_type": "markdown",
      "metadata": {
        "id": "f7et4ImSa1Ri",
        "colab_type": "text"
      },
      "source": [
        "## Strings"
      ]
    },
    {
      "cell_type": "markdown",
      "metadata": {
        "id": "F51-A7Yra1Ri",
        "colab_type": "text"
      },
      "source": [
        "Given the string 'hello' give an index command that returns 'e'. Enter your code in the cell below:"
      ]
    },
    {
      "cell_type": "code",
      "metadata": {
        "id": "LLgYcR0za1Rj",
        "colab_type": "code",
        "colab": {}
      },
      "source": [
        "s = 'hello'\n",
        "# Print out 'e' using indexing\n",
        "\n"
      ],
      "execution_count": null,
      "outputs": []
    },
    {
      "cell_type": "markdown",
      "metadata": {
        "id": "YE8pQM0Ea1Rl",
        "colab_type": "text"
      },
      "source": [
        "Reverse the string 'hello' using slicing:"
      ]
    },
    {
      "cell_type": "code",
      "metadata": {
        "id": "jISIDkZUa1Rm",
        "colab_type": "code",
        "colab": {}
      },
      "source": [
        "s ='hello'\n",
        "# Reverse the string using slicing\n",
        "\n"
      ],
      "execution_count": null,
      "outputs": []
    },
    {
      "cell_type": "markdown",
      "metadata": {
        "id": "eP6cuP4Ra1Ro",
        "colab_type": "text"
      },
      "source": [
        "Given the string hello, give two methods of producing the letter 'o' using indexing."
      ]
    },
    {
      "cell_type": "code",
      "metadata": {
        "id": "xGWrIxeGa1Rp",
        "colab_type": "code",
        "colab": {}
      },
      "source": [
        "s ='hello'\n",
        "# Print out the 'o'\n",
        "\n",
        "# Method 1:\n",
        "\n"
      ],
      "execution_count": null,
      "outputs": []
    },
    {
      "cell_type": "code",
      "metadata": {
        "id": "xNpzeXRsa1Rr",
        "colab_type": "code",
        "colab": {}
      },
      "source": [
        "# Method 2:\n",
        "\n"
      ],
      "execution_count": null,
      "outputs": []
    },
    {
      "cell_type": "markdown",
      "metadata": {
        "id": "Ad1KXnBNa1Ru",
        "colab_type": "text"
      },
      "source": [
        "## Lists"
      ]
    },
    {
      "cell_type": "markdown",
      "metadata": {
        "id": "GqS0jpasa1Rv",
        "colab_type": "text"
      },
      "source": [
        "Build this list [0,0,0] two separate ways."
      ]
    },
    {
      "cell_type": "code",
      "metadata": {
        "id": "FJuAXR0oa1Rw",
        "colab_type": "code",
        "colab": {}
      },
      "source": [
        "# Method 1:\n"
      ],
      "execution_count": null,
      "outputs": []
    },
    {
      "cell_type": "code",
      "metadata": {
        "id": "nlea1d3Ja1Rz",
        "colab_type": "code",
        "colab": {}
      },
      "source": [
        "# Method 2:\n"
      ],
      "execution_count": null,
      "outputs": []
    },
    {
      "cell_type": "markdown",
      "metadata": {
        "id": "XWUYQdPNa1R1",
        "colab_type": "text"
      },
      "source": [
        "Reassign 'hello' in this nested list to say 'goodbye' instead:"
      ]
    },
    {
      "cell_type": "code",
      "metadata": {
        "id": "4NNGCnLba1R2",
        "colab_type": "code",
        "colab": {}
      },
      "source": [
        "list3 = [1,2,[3,4,'hello']]\n",
        "\n"
      ],
      "execution_count": null,
      "outputs": []
    },
    {
      "cell_type": "markdown",
      "metadata": {
        "id": "vHhtJN5Oa1R7",
        "colab_type": "text"
      },
      "source": [
        "Sort the list below:"
      ]
    },
    {
      "cell_type": "code",
      "metadata": {
        "id": "QilShOFHa1R7",
        "colab_type": "code",
        "colab": {}
      },
      "source": [
        "list4 = [5,3,4,6,1]\n",
        "\n"
      ],
      "execution_count": null,
      "outputs": []
    },
    {
      "cell_type": "markdown",
      "metadata": {
        "id": "KXr1w5eOa1R-",
        "colab_type": "text"
      },
      "source": [
        "## Dictionaries"
      ]
    },
    {
      "cell_type": "markdown",
      "metadata": {
        "id": "TgbrPTFoa1R_",
        "colab_type": "text"
      },
      "source": [
        "Using keys and indexing, grab the 'hello' from the following dictionaries:"
      ]
    },
    {
      "cell_type": "code",
      "metadata": {
        "id": "1XBP5xSJa1SA",
        "colab_type": "code",
        "colab": {}
      },
      "source": [
        "d = {'simple_key':'hello'}\n",
        "# Grab 'hello'\n"
      ],
      "execution_count": null,
      "outputs": []
    },
    {
      "cell_type": "code",
      "metadata": {
        "id": "APrYyr5Aa1SD",
        "colab_type": "code",
        "colab": {}
      },
      "source": [
        "d = {'k1':{'k2':'hello'}}\n",
        "# Grab 'hello'\n"
      ],
      "execution_count": null,
      "outputs": []
    },
    {
      "cell_type": "code",
      "metadata": {
        "id": "dCy7XxJ_a1SF",
        "colab_type": "code",
        "colab": {}
      },
      "source": [
        "# Getting a little tricker\n",
        "d = {'k1':[{'nest_key':['this is deep',['hello']]}]}\n",
        "\n",
        "#Grab hello\n"
      ],
      "execution_count": null,
      "outputs": []
    },
    {
      "cell_type": "code",
      "metadata": {
        "id": "kWEf_CRAa1SH",
        "colab_type": "code",
        "colab": {}
      },
      "source": [
        "# This will be hard and annoying!\n",
        "d = {'k1':[1,2,{'k2':['this is tricky',{'tough':[1,2,['hello']]}]}]}"
      ],
      "execution_count": null,
      "outputs": []
    },
    {
      "cell_type": "markdown",
      "metadata": {
        "id": "U4HY4TyAa1SJ",
        "colab_type": "text"
      },
      "source": [
        "Can you sort a dictionary? Why or why not?<br><br>"
      ]
    },
    {
      "cell_type": "markdown",
      "metadata": {
        "id": "uC54m7rca1SK",
        "colab_type": "text"
      },
      "source": [
        "## Tuples"
      ]
    },
    {
      "cell_type": "markdown",
      "metadata": {
        "id": "U7lppe23a1SK",
        "colab_type": "text"
      },
      "source": [
        "What is the major difference between tuples and lists?<br><br>"
      ]
    },
    {
      "cell_type": "markdown",
      "metadata": {
        "id": "zWrJ7yy8a1SK",
        "colab_type": "text"
      },
      "source": [
        "How do you create a tuple?<br><br>"
      ]
    },
    {
      "cell_type": "markdown",
      "metadata": {
        "id": "QGALiBAPa1SL",
        "colab_type": "text"
      },
      "source": [
        "## Sets "
      ]
    },
    {
      "cell_type": "markdown",
      "metadata": {
        "id": "MYszt3i1a1SL",
        "colab_type": "text"
      },
      "source": [
        "What is unique about a set?<br><br>"
      ]
    },
    {
      "cell_type": "markdown",
      "metadata": {
        "id": "F7LEN3TRa1SL",
        "colab_type": "text"
      },
      "source": [
        "Use a set to find the unique values of the list below:"
      ]
    },
    {
      "cell_type": "code",
      "metadata": {
        "id": "HlSaCdD1a1SM",
        "colab_type": "code",
        "colab": {}
      },
      "source": [
        "list5 = [1,2,2,33,4,4,11,22,3,3,2]\n",
        "\n",
        "\n"
      ],
      "execution_count": null,
      "outputs": []
    },
    {
      "cell_type": "markdown",
      "metadata": {
        "id": "mFUfXF8Va1SN",
        "colab_type": "text"
      },
      "source": [
        "## Booleans"
      ]
    },
    {
      "cell_type": "markdown",
      "metadata": {
        "id": "YHOVhf_Ka1SO",
        "colab_type": "text"
      },
      "source": [
        "For the following quiz questions, we will get a preview of comparison operators. In the table below, a=3 and b=4.\n",
        "\n",
        "<table class=\"table table-bordered\">\n",
        "<tr>\n",
        "<th style=\"width:10%\">Operator</th><th style=\"width:45%\">Description</th><th>Example</th>\n",
        "</tr>\n",
        "<tr>\n",
        "<td>==</td>\n",
        "<td>If the values of two operands are equal, then the condition becomes true.</td>\n",
        "<td> (a == b) is not true.</td>\n",
        "</tr>\n",
        "<tr>\n",
        "<td>!=</td>\n",
        "<td>If values of two operands are not equal, then condition becomes true.</td>\n",
        "<td> (a != b) is true.</td>\n",
        "</tr>\n",
        "<tr>\n",
        "<td>&gt;</td>\n",
        "<td>If the value of left operand is greater than the value of right operand, then condition becomes true.</td>\n",
        "<td> (a &gt; b) is not true.</td>\n",
        "</tr>\n",
        "<tr>\n",
        "<td>&lt;</td>\n",
        "<td>If the value of left operand is less than the value of right operand, then condition becomes true.</td>\n",
        "<td> (a &lt; b) is true.</td>\n",
        "</tr>\n",
        "<tr>\n",
        "<td>&gt;=</td>\n",
        "<td>If the value of left operand is greater than or equal to the value of right operand, then condition becomes true.</td>\n",
        "<td> (a &gt;= b) is not true. </td>\n",
        "</tr>\n",
        "<tr>\n",
        "<td>&lt;=</td>\n",
        "<td>If the value of left operand is less than or equal to the value of right operand, then condition becomes true.</td>\n",
        "<td> (a &lt;= b) is true. </td>\n",
        "</tr>\n",
        "</table>"
      ]
    },
    {
      "cell_type": "markdown",
      "metadata": {
        "id": "Iks872Fqa1SO",
        "colab_type": "text"
      },
      "source": [
        "What will be the resulting Boolean of the following pieces of code (answer fist then check by typing it in!)"
      ]
    },
    {
      "cell_type": "code",
      "metadata": {
        "id": "QkqPvKzEa1SP",
        "colab_type": "code",
        "colab": {}
      },
      "source": [
        "# Answer before running cell\n",
        "2 > 3"
      ],
      "execution_count": null,
      "outputs": []
    },
    {
      "cell_type": "code",
      "metadata": {
        "id": "K6LpE9DZa1SR",
        "colab_type": "code",
        "colab": {}
      },
      "source": [
        "# Answer before running cell\n",
        "3 <= 2"
      ],
      "execution_count": null,
      "outputs": []
    },
    {
      "cell_type": "code",
      "metadata": {
        "id": "vfduqtZma1SU",
        "colab_type": "code",
        "colab": {}
      },
      "source": [
        "# Answer before running cell\n",
        "3 == 2.0"
      ],
      "execution_count": null,
      "outputs": []
    },
    {
      "cell_type": "code",
      "metadata": {
        "id": "47nRrbQ7a1SW",
        "colab_type": "code",
        "colab": {}
      },
      "source": [
        "# Answer before running cell\n",
        "3.0 == 3"
      ],
      "execution_count": null,
      "outputs": []
    },
    {
      "cell_type": "code",
      "metadata": {
        "id": "2bT6xtQya1SZ",
        "colab_type": "code",
        "colab": {}
      },
      "source": [
        "# Answer before running cell\n",
        "4**0.5 != 2"
      ],
      "execution_count": null,
      "outputs": []
    },
    {
      "cell_type": "markdown",
      "metadata": {
        "id": "9PHF-3aLa1Sb",
        "colab_type": "text"
      },
      "source": [
        "Final Question: What is the boolean output of the cell block below?"
      ]
    },
    {
      "cell_type": "code",
      "metadata": {
        "id": "7dEIfRtHa1Sb",
        "colab_type": "code",
        "colab": {}
      },
      "source": [
        "# two nested lists\n",
        "l_one = [1,2,[3,4]]\n",
        "l_two = [1,2,{'k1':4}]\n",
        "\n",
        "# True or False?\n",
        "l_one[2][0] >= l_two[2]['k1']"
      ],
      "execution_count": null,
      "outputs": []
    },
    {
      "cell_type": "markdown",
      "metadata": {
        "id": "OIKyPDsra1Sd",
        "colab_type": "text"
      },
      "source": [
        "## Great Job on your first assessment! "
      ]
    }
  ]
}