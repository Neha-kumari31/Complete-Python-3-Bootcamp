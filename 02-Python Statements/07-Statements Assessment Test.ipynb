{
  "nbformat": 4,
  "nbformat_minor": 0,
  "metadata": {
    "kernelspec": {
      "display_name": "Python 3",
      "language": "python",
      "name": "python3"
    },
    "language_info": {
      "codemirror_mode": {
        "name": "ipython",
        "version": 3
      },
      "file_extension": ".py",
      "mimetype": "text/x-python",
      "name": "python",
      "nbconvert_exporter": "python",
      "pygments_lexer": "ipython3",
      "version": "3.6.2"
    },
    "colab": {
      "name": "07-Statements Assessment Test.ipynb",
      "provenance": []
    }
  },
  "cells": [
    {
      "cell_type": "markdown",
      "metadata": {
        "collapsed": true,
        "id": "GvfaKJfcI5M9",
        "colab_type": "text"
      },
      "source": [
        "# Statements Assessment Test\n",
        "Let's test your knowledge!"
      ]
    },
    {
      "cell_type": "markdown",
      "metadata": {
        "id": "2ctQ6n0uI5M-",
        "colab_type": "text"
      },
      "source": [
        "_____\n",
        "**Use <code>for</code>, .split(), and <code>if</code> to create a Statement that will print out words that start with 's':**"
      ]
    },
    {
      "cell_type": "code",
      "metadata": {
        "id": "2_uDdTzDI5NA",
        "colab_type": "code",
        "colab": {}
      },
      "source": [
        "st = 'Print only the words that start with s in this sentence'"
      ],
      "execution_count": 2,
      "outputs": []
    },
    {
      "cell_type": "code",
      "metadata": {
        "id": "w-FZ3u-JI5NF",
        "colab_type": "code",
        "colab": {
          "base_uri": "https://localhost:8080/",
          "height": 67
        },
        "outputId": "82eb955a-23fc-48f1-9904-e1a2d9f35781"
      },
      "source": [
        "#Code here\n",
        "for word in st.split():\n",
        "  if word[0]== 's':\n",
        "    print(word)"
      ],
      "execution_count": 3,
      "outputs": [
        {
          "output_type": "stream",
          "text": [
            "start\n",
            "s\n",
            "sentence\n"
          ],
          "name": "stdout"
        }
      ]
    },
    {
      "cell_type": "markdown",
      "metadata": {
        "id": "SDG46tekI5NH",
        "colab_type": "text"
      },
      "source": [
        "______\n",
        "**Use range() to print all the even numbers from 0 to 10.**"
      ]
    },
    {
      "cell_type": "code",
      "metadata": {
        "id": "xTReWiINI5NI",
        "colab_type": "code",
        "colab": {
          "base_uri": "https://localhost:8080/",
          "height": 117
        },
        "outputId": "faa031a1-1472-4d6a-9476-fae0b4c03683"
      },
      "source": [
        "#Code Here\n",
        "for i in range(0,11):\n",
        "  if i % 2 == 0:\n",
        "    print(f'even number {i}')\n"
      ],
      "execution_count": 5,
      "outputs": [
        {
          "output_type": "stream",
          "text": [
            "even number 0\n",
            "even number 2\n",
            "even number 4\n",
            "even number 6\n",
            "even number 8\n",
            "even number 10\n"
          ],
          "name": "stdout"
        }
      ]
    },
    {
      "cell_type": "code",
      "metadata": {
        "id": "qIH2tMR7LKmC",
        "colab_type": "code",
        "colab": {
          "base_uri": "https://localhost:8080/",
          "height": 117
        },
        "outputId": "a7e8d9d9-78c0-4fc9-de89-f5746dda83e5"
      },
      "source": [
        "for i in  range(0,11,2):  \n",
        "    print(i)"
      ],
      "execution_count": 8,
      "outputs": [
        {
          "output_type": "stream",
          "text": [
            "0\n",
            "2\n",
            "4\n",
            "6\n",
            "8\n",
            "10\n"
          ],
          "name": "stdout"
        }
      ]
    },
    {
      "cell_type": "code",
      "metadata": {
        "id": "dg3aTjhcLsjd",
        "colab_type": "code",
        "colab": {
          "base_uri": "https://localhost:8080/",
          "height": 33
        },
        "outputId": "62875d6e-a8b9-446c-9d04-18c56d6dd73e"
      },
      "source": [
        "list(range(0,11,2))"
      ],
      "execution_count": 9,
      "outputs": [
        {
          "output_type": "execute_result",
          "data": {
            "text/plain": [
              "[0, 2, 4, 6, 8, 10]"
            ]
          },
          "metadata": {
            "tags": []
          },
          "execution_count": 9
        }
      ]
    },
    {
      "cell_type": "markdown",
      "metadata": {
        "id": "pqOZnirMI5NK",
        "colab_type": "text"
      },
      "source": [
        "___\n",
        "**Use a List Comprehension to create a list of all numbers between 1 and 50 that are divisible by 3.**"
      ]
    },
    {
      "cell_type": "code",
      "metadata": {
        "id": "8xFC4FygI5NL",
        "colab_type": "code",
        "colab": {
          "base_uri": "https://localhost:8080/",
          "height": 33
        },
        "outputId": "63e8a9e5-11fb-4a5e-bb35-2e9f70fc9de2"
      },
      "source": [
        "#Code in this cell\n",
        "[i for i in range(0, 51) if i % 3 ==0]"
      ],
      "execution_count": 10,
      "outputs": [
        {
          "output_type": "execute_result",
          "data": {
            "text/plain": [
              "[0, 3, 6, 9, 12, 15, 18, 21, 24, 27, 30, 33, 36, 39, 42, 45, 48]"
            ]
          },
          "metadata": {
            "tags": []
          },
          "execution_count": 10
        }
      ]
    },
    {
      "cell_type": "markdown",
      "metadata": {
        "id": "D7QHyHJnI5NO",
        "colab_type": "text"
      },
      "source": [
        "_____\n",
        "**Go through the string below and if the length of a word is even print \"even!\"**"
      ]
    },
    {
      "cell_type": "code",
      "metadata": {
        "id": "iVzzG76lI5NP",
        "colab_type": "code",
        "colab": {
          "base_uri": "https://localhost:8080/",
          "height": 33
        },
        "outputId": "89b4b884-b2ad-43c7-895e-61ec253b1a9a"
      },
      "source": [
        "st = 'Print every word in this sentence that has an even number of letters'\n",
        "st.split()"
      ],
      "execution_count": 15,
      "outputs": [
        {
          "output_type": "execute_result",
          "data": {
            "text/plain": [
              "68"
            ]
          },
          "metadata": {
            "tags": []
          },
          "execution_count": 15
        }
      ]
    },
    {
      "cell_type": "code",
      "metadata": {
        "id": "8KgqTG9wI5NS",
        "colab_type": "code",
        "colab": {
          "base_uri": "https://localhost:8080/",
          "height": 167
        },
        "outputId": "cb6ebf86-318b-4b38-a5a1-27ba6b1f1d79"
      },
      "source": [
        "#Code in this cell\n",
        "for words in st.split():\n",
        "  if len(words) % 2 ==0:\n",
        "    print(f'even word is {words}')"
      ],
      "execution_count": 16,
      "outputs": [
        {
          "output_type": "stream",
          "text": [
            "even word is word\n",
            "even word is in\n",
            "even word is this\n",
            "even word is sentence\n",
            "even word is that\n",
            "even word is an\n",
            "even word is even\n",
            "even word is number\n",
            "even word is of\n"
          ],
          "name": "stdout"
        }
      ]
    },
    {
      "cell_type": "markdown",
      "metadata": {
        "id": "btjb29-fI5NV",
        "colab_type": "text"
      },
      "source": [
        "____\n",
        "**Write a program that prints the integers from 1 to 100. But for multiples of three print \"Fizz\" instead of the number, and for the multiples of five print \"Buzz\". For numbers which are multiples of both three and five print \"FizzBuzz\".**"
      ]
    },
    {
      "cell_type": "code",
      "metadata": {
        "id": "MDTu4IvfI5NW",
        "colab_type": "code",
        "colab": {
          "base_uri": "https://localhost:8080/",
          "height": 1000
        },
        "outputId": "e5f2fa92-ff4c-4b25-f304-8f2444ea1055"
      },
      "source": [
        "#Code in this cell\n",
        "for num in range(1, 101):\n",
        "  if (num >3) and (num % 3 == 0):\n",
        "    print(f'Fizz for the number multiplies of 3 ')\n",
        "  elif (num >5) and (num % 5 ==0):\n",
        "    print(f'Buzz for the number multiples of 5')\n",
        "  elif (num % 3 == 0) and (num % 5 ==0):\n",
        "    print('FizzBuzz')\n",
        "  else:\n",
        "    print(num)"
      ],
      "execution_count": 21,
      "outputs": [
        {
          "output_type": "stream",
          "text": [
            "1\n",
            "2\n",
            "3\n",
            "4\n",
            "5\n",
            "Fizz for the number multiplies of 3 \n",
            "7\n",
            "8\n",
            "Fizz for the number multiplies of 3 \n",
            "Buzz for the number multiples of 5\n",
            "11\n",
            "Fizz for the number multiplies of 3 \n",
            "13\n",
            "14\n",
            "Fizz for the number multiplies of 3 \n",
            "16\n",
            "17\n",
            "Fizz for the number multiplies of 3 \n",
            "19\n",
            "Buzz for the number multiples of 5\n",
            "Fizz for the number multiplies of 3 \n",
            "22\n",
            "23\n",
            "Fizz for the number multiplies of 3 \n",
            "Buzz for the number multiples of 5\n",
            "26\n",
            "Fizz for the number multiplies of 3 \n",
            "28\n",
            "29\n",
            "Fizz for the number multiplies of 3 \n",
            "31\n",
            "32\n",
            "Fizz for the number multiplies of 3 \n",
            "34\n",
            "Buzz for the number multiples of 5\n",
            "Fizz for the number multiplies of 3 \n",
            "37\n",
            "38\n",
            "Fizz for the number multiplies of 3 \n",
            "Buzz for the number multiples of 5\n",
            "41\n",
            "Fizz for the number multiplies of 3 \n",
            "43\n",
            "44\n",
            "Fizz for the number multiplies of 3 \n",
            "46\n",
            "47\n",
            "Fizz for the number multiplies of 3 \n",
            "49\n",
            "Buzz for the number multiples of 5\n",
            "Fizz for the number multiplies of 3 \n",
            "52\n",
            "53\n",
            "Fizz for the number multiplies of 3 \n",
            "Buzz for the number multiples of 5\n",
            "56\n",
            "Fizz for the number multiplies of 3 \n",
            "58\n",
            "59\n",
            "Fizz for the number multiplies of 3 \n",
            "61\n",
            "62\n",
            "Fizz for the number multiplies of 3 \n",
            "64\n",
            "Buzz for the number multiples of 5\n",
            "Fizz for the number multiplies of 3 \n",
            "67\n",
            "68\n",
            "Fizz for the number multiplies of 3 \n",
            "Buzz for the number multiples of 5\n",
            "71\n",
            "Fizz for the number multiplies of 3 \n",
            "73\n",
            "74\n",
            "Fizz for the number multiplies of 3 \n",
            "76\n",
            "77\n",
            "Fizz for the number multiplies of 3 \n",
            "79\n",
            "Buzz for the number multiples of 5\n",
            "Fizz for the number multiplies of 3 \n",
            "82\n",
            "83\n",
            "Fizz for the number multiplies of 3 \n",
            "Buzz for the number multiples of 5\n",
            "86\n",
            "Fizz for the number multiplies of 3 \n",
            "88\n",
            "89\n",
            "Fizz for the number multiplies of 3 \n",
            "91\n",
            "92\n",
            "Fizz for the number multiplies of 3 \n",
            "94\n",
            "Buzz for the number multiples of 5\n",
            "Fizz for the number multiplies of 3 \n",
            "97\n",
            "98\n",
            "Fizz for the number multiplies of 3 \n",
            "Buzz for the number multiples of 5\n"
          ],
          "name": "stdout"
        }
      ]
    },
    {
      "cell_type": "markdown",
      "metadata": {
        "id": "ohWGuhBWI5NY",
        "colab_type": "text"
      },
      "source": [
        "____\n",
        "**Use List Comprehension to create a list of the first letters of every word in the string below:**"
      ]
    },
    {
      "cell_type": "code",
      "metadata": {
        "id": "3M8SLbE4I5NZ",
        "colab_type": "code",
        "colab": {}
      },
      "source": [
        "st = 'Create a list of the first letters of every word in this string'"
      ],
      "execution_count": 19,
      "outputs": []
    },
    {
      "cell_type": "code",
      "metadata": {
        "id": "JF7-yNWvI5Nb",
        "colab_type": "code",
        "colab": {
          "base_uri": "https://localhost:8080/",
          "height": 33
        },
        "outputId": "8edf4c9b-660c-47c7-8746-a67b6c530592"
      },
      "source": [
        "#Code in this cell\n",
        "[words[0] for words in st.split()]"
      ],
      "execution_count": 20,
      "outputs": [
        {
          "output_type": "execute_result",
          "data": {
            "text/plain": [
              "['C', 'a', 'l', 'o', 't', 'f', 'l', 'o', 'e', 'w', 'i', 't', 's']"
            ]
          },
          "metadata": {
            "tags": []
          },
          "execution_count": 20
        }
      ]
    },
    {
      "cell_type": "markdown",
      "metadata": {
        "id": "ooXF3uXKI5Nd",
        "colab_type": "text"
      },
      "source": [
        "### Great Job!"
      ]
    }
  ]
}